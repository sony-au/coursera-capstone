{
 "cells": [
  {
   "cell_type": "markdown",
   "metadata": {},
   "source": [
    "# Capstone Project: The Battle of the Neighborhoods\n",
    "## YogaBear: mindful beginning, one day at a time"
   ]
  },
  {
   "cell_type": "markdown",
   "metadata": {},
   "source": [
    "### The Background\n",
    "**YogaBear** is a Chinese yoga company that has been very succesful in mainland China. Over the past 10 years, the company have grown from one small yoga studio in Shanghai to over 200 studios spread across China. On the back of this domestic success, they begin to set their eyes on overseas market.\n",
    "\n",
    "Their initial research has brought them to two of the biggest cities in North America, namely New York and Toronto.\n",
    "\n",
    "(1) **New York**, the most populous city in the United States (US) with an estimated population of 8,398,748 as of 2018, is the most densely populated major city in the US. A global power city, New York has been described as the cultural, financial, and media capital of the world, and exerts a significant impact upon education, tourism, art, fashion, and sports.\n",
    "\n",
    "(2) **Toronto**, the provincial capital of Ontario, is the most populous city in Canada with a population of 2,731,571 as of 2016. Like New York, it is also an international centre of business, finance, arts, and culture, and is recognized as one of the most multicultural and cosmopolitan cities in the world.\n",
    "\n",
    "Because both are major metropolitans with extremely high cost of doing business, any new business venture in these cities deserve a proper and careful analysis. In this project, we are going to do an analysis to assess the prospect of opening a yoga studio there. The insights derived from our analysis will help YogaBear decide which city will be the right market to go into as their first major overseas investment. *So, without further ado, let's get into it.*"
   ]
  },
  {
   "cell_type": "markdown",
   "metadata": {},
   "source": [
    "### The Critical Success Factors\n",
    "The practice of yoga has experienced an exponential growth over the past couple of decades and it continues to attract more and more people. Naturally, as more and more people practice yoga, more and more yoga studios are opening. However, opening a yoga studio is not without its challenges. Good location, good surrounding venues, the competition and the ability to maintain and expand student base are all very important factors. \n",
    "\n",
    "**(1) The competition - who’s around the corner?**  \n",
    "It is common sense to check the competition before going into any market. The point being that it is a good practice to scope out areas where the competition is already established. What is the point of opening a new studio if the market is already oversaturated by the existing players in the area. Bottom line is: research your market, avoid competition if possible, then open with a big bang to quickly establish yourself as the main player in the area.\n",
    "\n",
    "**(2) Good location - where should we go?**  \n",
    "Whenever you want to open a new shop (in this case, a yoga studio), it makes sense to pick a good location. Based on their experience in China, it is always good practice to open the first studio in the CBD area. If this becomes successful, it will usually become easier for them to open new studios in other areas in the city.\n",
    "\n",
    "**(3) Good surrounding venues - who is around us?**  \n",
    "In China, yoga studios go hand in hand with parks and coffee shops. Having a *park* nearby is apparently an important success factor for a yoga studio. People often like to do yoga outdoor, and having a public park nearby means they can do so conveniently. Surprisingly, it is also important to have *coffee shops or cafe* nearby. Usually, people who like to drink coffee tend to live a high pace life and this sometimes can be a very stressful life. YogaBear found that these people tend to benefit the most and are more likely to sign up to yoga than others.\n",
    "\n"
   ]
  },
  {
   "cell_type": "markdown",
   "metadata": {},
   "source": [
    "### The Data\n",
    "In this project, we will be using the New York dataset and the Toronto data set from the Wikipedia page to obtain neighborhoods information about New York and Toronto. For Toronto, we will also use the latitude and longitude data in the Geospatial_Coordinates.csv file to complement our data. For this project, we will focus our analysis on the CBD areas in Manhattan and Toronto. \n",
    "\n",
    "Then, we will use the Foursquare location data to locate nearby venues information. We will check the most common venues, the least common venues, how many yoga studios already exist in the areas, how many parks, coffee shops and cafes in those areas. Based on our analysis we will then decide which city will be the right market to go into as YogaBear's first major investment overseas. We will also use charts and maps to plot our analysis and proposed locations."
   ]
  }
 ],
 "metadata": {
  "kernelspec": {
   "display_name": "Python 3",
   "language": "python",
   "name": "python3"
  },
  "language_info": {
   "codemirror_mode": {
    "name": "ipython",
    "version": 3
   },
   "file_extension": ".py",
   "mimetype": "text/x-python",
   "name": "python",
   "nbconvert_exporter": "python",
   "pygments_lexer": "ipython3",
   "version": "3.7.4"
  }
 },
 "nbformat": 4,
 "nbformat_minor": 2
}
